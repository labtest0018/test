{
  "nbformat": 4,
  "nbformat_minor": 0,
  "metadata": {
    "colab": {
      "provenance": [],
      "include_colab_link": true
    },
    "kernelspec": {
      "name": "python3",
      "display_name": "Python 3"
    },
    "language_info": {
      "name": "python"
    }
  },
  "cells": [
    {
      "cell_type": "markdown",
      "metadata": {
        "id": "view-in-github",
        "colab_type": "text"
      },
      "source": [
        "<a href=\"https://colab.research.google.com/github/labtest0018/test/blob/main/Optimization_v1.ipynb\" target=\"_parent\"><img src=\"https://colab.research.google.com/assets/colab-badge.svg\" alt=\"Open In Colab\"/></a>"
      ]
    },
    {
      "cell_type": "markdown",
      "source": [],
      "metadata": {
        "id": "mhcsG3Ne_PoR"
      }
    },
    {
      "cell_type": "code",
      "source": [
        "from google.colab import drive\n",
        "drive.mount('/content/drive')"
      ],
      "metadata": {
        "id": "bFMiA_lvM2rl"
      },
      "execution_count": null,
      "outputs": []
    },
    {
      "cell_type": "code",
      "source": [
        "import numpy as np\n",
        "import matplotlib.pyplot as plt\n",
        "from tensorflow import keras as keras\n",
        "from tensorflow.keras.layers import Dense,Dropout,Conv2D,Flatten,MaxPooling2D,Activation,BatchNormalization, Input\n",
        "import tensorflow as tf\n",
        "from matplotlib.patches import Ellipse"
      ],
      "metadata": {
        "id": "rIz3Rx_2254v"
      },
      "execution_count": null,
      "outputs": []
    },
    {
      "cell_type": "code",
      "source": [
        "%matplotlib inline"
      ],
      "metadata": {
        "id": "hTCrabR827yo"
      },
      "execution_count": null,
      "outputs": []
    },
    {
      "cell_type": "code",
      "source": [
        "dim=6 #Number of rotators\n",
        "freq_min=2000 #Starting Frequency\n",
        "freq_max=7000 #Final frequency\n",
        "freq_step=100 #Frequency step\n",
        "freq_points=(freq_max-freq_min)//freq_step+1\n",
        "freq=np.linspace(freq_min, freq_max, freq_points) #list of frequencies"
      ],
      "metadata": {
        "id": "9Wzuw3nE3xZK"
      },
      "execution_count": null,
      "outputs": []
    },
    {
      "cell_type": "code",
      "source": [
        "#FORWARD MODEL ONE FREQ\n",
        "model=tf.keras.Sequential()\n",
        "model.add(Dense(units=50, input_shape=(dim,)))\n",
        "model.add(Dense(50, activation=\"relu\", kernel_initializer=\"he_normal\"))\n",
        "model.add(Dense(20, activation=\"relu\", kernel_initializer=\"he_normal\"))\n",
        "model.add(Dense(1))\n",
        "model.add(Activation('linear'))\n",
        "optimizer=keras.optimizers.Adam(learning_rate=0.001)\n",
        "model.compile(optimizer=optimizer, loss='mse')"
      ],
      "metadata": {
        "id": "Lla3Ax1W3xwa"
      },
      "execution_count": null,
      "outputs": []
    },
    {
      "cell_type": "code",
      "source": [
        "model.load_weights(\"/content/drive/MyDrive/Optimization/virtual_oneoutput_4000Hz_v1.h5\")\n"
      ],
      "metadata": {
        "id": "XUavJsk03z9B"
      },
      "execution_count": null,
      "outputs": []
    },
    {
      "cell_type": "code",
      "source": [
        "model.summary()"
      ],
      "metadata": {
        "id": "VebGEXq-32Hy"
      },
      "execution_count": null,
      "outputs": []
    },
    {
      "cell_type": "code",
      "source": [
        "#FORWARD MODEL Spectra\n",
        "model2=tf.keras.Sequential()\n",
        "model2.add(Dense(units=50, input_shape=(dim,)))\n",
        "model2.add(Dense(50, activation=\"relu\", kernel_initializer=\"he_normal\"))\n",
        "model2.add(Dense(20, activation=\"relu\", kernel_initializer=\"he_normal\"))\n",
        "model2.add(Dense(freq_points))\n",
        "model2.add(Activation('linear'))\n",
        "optimizer2=keras.optimizers.Adam(learning_rate=0.001)\n",
        "model2.compile(optimizer=optimizer2, loss='mse')\n"
      ],
      "metadata": {
        "id": "UelxiguvTozz"
      },
      "execution_count": null,
      "outputs": []
    },
    {
      "cell_type": "code",
      "source": [
        "model2.load_weights(\"/content/drive/MyDrive/Optimization/virtual_rangeoutput_v1.h5\")"
      ],
      "metadata": {
        "id": "mT2n-RkcTu-V"
      },
      "execution_count": null,
      "outputs": []
    },
    {
      "cell_type": "code",
      "source": [
        "#Functions to calculate transmission value/spectra for the desired position of the rotators\n",
        "#with the help of pre-trained NNs\n",
        "def acoustic1freq(rot, model):\n",
        "  res=model.predict(rot.reshape(1,-1))\n",
        "  #res=model.predict(rot)\n",
        "  res2=res[0][0]\n",
        "  return res2\n",
        "\n",
        "def acousticRange(rot, model):\n",
        "  res=model2.predict(rot.reshape(1,-1))\n",
        "  res2=res[0]\n",
        "  return res2\n"
      ],
      "metadata": {
        "id": "zRHAXgSHTvBi"
      },
      "execution_count": null,
      "outputs": []
    },
    {
      "cell_type": "code",
      "source": [
        "rot_position=np.array([80,10,150,100,20,50]) #Note that you should use numpy array and not the list\n",
        "one_val=acoustic1freq(rot_position, model=model)\n",
        "spectra=acousticRange(rot_position, model=model2)\n",
        "print (one_val)\n",
        "print (spectra)\n",
        "print (freq)"
      ],
      "metadata": {
        "id": "A6oZky1MTvE8"
      },
      "execution_count": null,
      "outputs": []
    },
    {
      "cell_type": "code",
      "source": [
        "#Example of drawing\n",
        "fig = plt.figure()\n",
        "ax1 = fig.add_subplot(111)\n",
        "ax1.set_xlabel('Amplitude')\n",
        "ax1.set_ylabel('Frequency')\n",
        "ax1.set_title('Transmission spectra')\n",
        "#ax1.set_title('Whole normal dist')\n",
        "ax1.plot(spectra, freq)"
      ],
      "metadata": {
        "id": "Bo8oNu7ZUOrf"
      },
      "execution_count": null,
      "outputs": []
    },
    {
      "cell_type": "code",
      "source": [
        "#Functions to draw the position of rotators\n",
        "def setupconfig():\n",
        "  fig_el2 = plt.figure()\n",
        "  ax1_el2 = fig_el2.add_subplot(211)\n",
        "  #ax2 = fig.add_subplot(212)\n",
        "  ax1_el2.set_xlim(0,35)\n",
        "  ax1_el2.set_ylim(-2.5,2.5)\n",
        "  ax1_el2.set_aspect('equal')\n",
        "  #ax2.set_xlim(0,35)\n",
        "  #ax2.set_ylim(-2.5,2.5)\n",
        "  #ax2.set_aspect('equal')\n",
        "  ells2 = [Ellipse(xy=((i+1)*5,0), width=4, height=1, angle=0)\n",
        "          for i in range(6)]\n",
        "  for e in ells2:\n",
        "    ax1_el2.add_artist(e)\n",
        "  return ells2, fig_el2, ax1_el2\n",
        "\n",
        "def showconfig(rot,ells2, fig_in, ax_in):\n",
        "  #fig_out=fig_in\n",
        "  for i in range(len(ells2)):\n",
        "    ells2[i].angle=rot[i]\n",
        "  fig_in.canvas.draw()\n",
        "  fig_in.canvas.flush_events()\n",
        "  #display(fig_in)\n",
        "\n",
        "def showconfigMain(rot):\n",
        "  ells_in, fig_in, ax_in=setupconfig()\n",
        "  showconfig(rot,ells_in, fig_in, ax_in)\n"
      ],
      "metadata": {
        "id": "yUVgmUYqUZT3"
      },
      "execution_count": null,
      "outputs": []
    },
    {
      "cell_type": "code",
      "source": [
        "#Example of position drawing\n",
        "showconfigMain(rot_position)"
      ],
      "metadata": {
        "id": "VZpBDOWrUZbJ"
      },
      "execution_count": null,
      "outputs": []
    },
    {
      "cell_type": "code",
      "source": [
        "rot_position\n"
      ],
      "metadata": {
        "colab": {
          "base_uri": "https://localhost:8080/"
        },
        "id": "oMOeTWnQUZjB",
        "outputId": "78e9309a-6e0c-41b2-c771-6c6643acc51e"
      },
      "execution_count": null,
      "outputs": [
        {
          "output_type": "execute_result",
          "data": {
            "text/plain": [
              "array([ 80,  10, 150, 100,  20,  50])"
            ]
          },
          "metadata": {},
          "execution_count": 16
        }
      ]
    },
    {
      "cell_type": "code",
      "source": [],
      "metadata": {
        "id": "c-PEclvkW7-l"
      },
      "execution_count": null,
      "outputs": []
    }
  ]
}